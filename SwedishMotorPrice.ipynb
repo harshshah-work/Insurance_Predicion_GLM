{
 "cells": [
  {
   "cell_type": "markdown",
   "id": "960b165b",
   "metadata": {},
   "source": [
    "# Import Libraries\n"
   ]
  },
  {
   "cell_type": "code",
   "execution_count": 28,
   "id": "ee6b2a51",
   "metadata": {},
   "outputs": [],
   "source": [
    "import pandas as pd\n",
    "import numpy as np\n",
    "\n",
    "#plotting libraries\n",
    "import matplotlib.pyplot as plt\n",
    "import seaborn as sns\n",
    "\n",
    "#sklearn MSE\n",
    "from sklearn.metrics import mean_squared_error \n",
    "\n",
    "from scipy import stats\n",
    "\n",
    "#statsmodel\n",
    "from patsy import dmatrices\n",
    "import statsmodels.api as sm\n",
    "from statsmodels import graphics\n",
    "from statsmodels.compat import lzip\n",
    "from statsmodels.graphics.api import abline_plot\n",
    "from statsmodels.genmod.generalized_linear_model import GLM\n",
    "\n",
    "import pickle"
   ]
  },
  {
   "cell_type": "markdown",
   "id": "f5bf97c3",
   "metadata": {},
   "source": [
    "# Import and Explore data"
   ]
  },
  {
   "cell_type": "code",
   "execution_count": 29,
   "id": "d30b1a60",
   "metadata": {},
   "outputs": [
    {
     "data": {
      "text/html": [
       "<div>\n",
       "<style scoped>\n",
       "    .dataframe tbody tr th:only-of-type {\n",
       "        vertical-align: middle;\n",
       "    }\n",
       "\n",
       "    .dataframe tbody tr th {\n",
       "        vertical-align: top;\n",
       "    }\n",
       "\n",
       "    .dataframe thead th {\n",
       "        text-align: right;\n",
       "    }\n",
       "</style>\n",
       "<table border=\"1\" class=\"dataframe\">\n",
       "  <thead>\n",
       "    <tr style=\"text-align: right;\">\n",
       "      <th></th>\n",
       "      <th>Kilometres</th>\n",
       "      <th>Zone</th>\n",
       "      <th>Bonus</th>\n",
       "      <th>Make</th>\n",
       "      <th>Insured</th>\n",
       "      <th>Claims</th>\n",
       "      <th>Payment</th>\n",
       "    </tr>\n",
       "  </thead>\n",
       "  <tbody>\n",
       "    <tr>\n",
       "      <th>0</th>\n",
       "      <td>1</td>\n",
       "      <td>1</td>\n",
       "      <td>1</td>\n",
       "      <td>1</td>\n",
       "      <td>455.13</td>\n",
       "      <td>108</td>\n",
       "      <td>392491</td>\n",
       "    </tr>\n",
       "    <tr>\n",
       "      <th>1</th>\n",
       "      <td>1</td>\n",
       "      <td>1</td>\n",
       "      <td>1</td>\n",
       "      <td>2</td>\n",
       "      <td>69.17</td>\n",
       "      <td>19</td>\n",
       "      <td>46221</td>\n",
       "    </tr>\n",
       "    <tr>\n",
       "      <th>2</th>\n",
       "      <td>1</td>\n",
       "      <td>1</td>\n",
       "      <td>1</td>\n",
       "      <td>3</td>\n",
       "      <td>72.88</td>\n",
       "      <td>13</td>\n",
       "      <td>15694</td>\n",
       "    </tr>\n",
       "    <tr>\n",
       "      <th>3</th>\n",
       "      <td>1</td>\n",
       "      <td>1</td>\n",
       "      <td>1</td>\n",
       "      <td>4</td>\n",
       "      <td>1292.39</td>\n",
       "      <td>124</td>\n",
       "      <td>422201</td>\n",
       "    </tr>\n",
       "    <tr>\n",
       "      <th>4</th>\n",
       "      <td>1</td>\n",
       "      <td>1</td>\n",
       "      <td>1</td>\n",
       "      <td>5</td>\n",
       "      <td>191.01</td>\n",
       "      <td>40</td>\n",
       "      <td>119373</td>\n",
       "    </tr>\n",
       "    <tr>\n",
       "      <th>...</th>\n",
       "      <td>...</td>\n",
       "      <td>...</td>\n",
       "      <td>...</td>\n",
       "      <td>...</td>\n",
       "      <td>...</td>\n",
       "      <td>...</td>\n",
       "      <td>...</td>\n",
       "    </tr>\n",
       "    <tr>\n",
       "      <th>2177</th>\n",
       "      <td>5</td>\n",
       "      <td>7</td>\n",
       "      <td>7</td>\n",
       "      <td>5</td>\n",
       "      <td>8.74</td>\n",
       "      <td>0</td>\n",
       "      <td>0</td>\n",
       "    </tr>\n",
       "    <tr>\n",
       "      <th>2178</th>\n",
       "      <td>5</td>\n",
       "      <td>7</td>\n",
       "      <td>7</td>\n",
       "      <td>6</td>\n",
       "      <td>16.61</td>\n",
       "      <td>0</td>\n",
       "      <td>0</td>\n",
       "    </tr>\n",
       "    <tr>\n",
       "      <th>2179</th>\n",
       "      <td>5</td>\n",
       "      <td>7</td>\n",
       "      <td>7</td>\n",
       "      <td>7</td>\n",
       "      <td>2.83</td>\n",
       "      <td>1</td>\n",
       "      <td>966</td>\n",
       "    </tr>\n",
       "    <tr>\n",
       "      <th>2180</th>\n",
       "      <td>5</td>\n",
       "      <td>7</td>\n",
       "      <td>7</td>\n",
       "      <td>8</td>\n",
       "      <td>13.06</td>\n",
       "      <td>0</td>\n",
       "      <td>0</td>\n",
       "    </tr>\n",
       "    <tr>\n",
       "      <th>2181</th>\n",
       "      <td>5</td>\n",
       "      <td>7</td>\n",
       "      <td>7</td>\n",
       "      <td>9</td>\n",
       "      <td>384.87</td>\n",
       "      <td>16</td>\n",
       "      <td>112252</td>\n",
       "    </tr>\n",
       "  </tbody>\n",
       "</table>\n",
       "<p>2182 rows × 7 columns</p>\n",
       "</div>"
      ],
      "text/plain": [
       "      Kilometres  Zone  Bonus  Make  Insured  Claims  Payment\n",
       "0              1     1      1     1   455.13     108   392491\n",
       "1              1     1      1     2    69.17      19    46221\n",
       "2              1     1      1     3    72.88      13    15694\n",
       "3              1     1      1     4  1292.39     124   422201\n",
       "4              1     1      1     5   191.01      40   119373\n",
       "...          ...   ...    ...   ...      ...     ...      ...\n",
       "2177           5     7      7     5     8.74       0        0\n",
       "2178           5     7      7     6    16.61       0        0\n",
       "2179           5     7      7     7     2.83       1      966\n",
       "2180           5     7      7     8    13.06       0        0\n",
       "2181           5     7      7     9   384.87      16   112252\n",
       "\n",
       "[2182 rows x 7 columns]"
      ]
     },
     "execution_count": 29,
     "metadata": {},
     "output_type": "execute_result"
    }
   ],
   "source": [
    "motor_insurance = pd.read_csv('SwedishMotorInsurance.csv',header=0)\n",
    "motor_insurance"
   ]
  },
  {
   "cell_type": "code",
   "execution_count": 30,
   "id": "bac00a06",
   "metadata": {},
   "outputs": [
    {
     "data": {
      "text/plain": [
       "count      2182.000000\n",
       "mean       1092.195270\n",
       "std        5661.156245\n",
       "min           0.010000\n",
       "25%          21.610000\n",
       "50%          81.525000\n",
       "75%         389.782500\n",
       "max      127687.270000\n",
       "Name: Insured, dtype: float64"
      ]
     },
     "execution_count": 30,
     "metadata": {},
     "output_type": "execute_result"
    }
   ],
   "source": [
    "motor_insurance['Insured'].describe()"
   ]
  },
  {
   "cell_type": "code",
   "execution_count": 31,
   "id": "1cf37bb4",
   "metadata": {},
   "outputs": [],
   "source": [
    "\n",
    "\n",
    "#We can remove the rows where payment and claim are 0\n",
    "\n",
    "motor_insurance = motor_insurance[(motor_insurance['Claims']!=0) & (motor_insurance['Payment']!=0)]"
   ]
  },
  {
   "cell_type": "code",
   "execution_count": 32,
   "id": "099bd323",
   "metadata": {},
   "outputs": [
    {
     "name": "stdout",
     "output_type": "stream",
     "text": [
      "<class 'pandas.core.frame.DataFrame'>\n",
      "Int64Index: 1797 entries, 0 to 2181\n",
      "Data columns (total 7 columns):\n",
      " #   Column      Non-Null Count  Dtype  \n",
      "---  ------      --------------  -----  \n",
      " 0   Kilometres  1797 non-null   object \n",
      " 1   Zone        1797 non-null   object \n",
      " 2   Bonus       1797 non-null   object \n",
      " 3   Make        1797 non-null   object \n",
      " 4   Insured     1797 non-null   float64\n",
      " 5   Claims      1797 non-null   int64  \n",
      " 6   Payment     1797 non-null   int64  \n",
      "dtypes: float64(1), int64(2), object(4)\n",
      "memory usage: 112.3+ KB\n"
     ]
    }
   ],
   "source": [
    "#getting the features info\n",
    "#converting the dtype of categoricals\n",
    "\n",
    "motor_insurance = motor_insurance.astype({\"Kilometres\":str,\"Zone\":str,\"Bonus\":str,\"Make\":str})\n",
    "motor_insurance.info()"
   ]
  },
  {
   "cell_type": "code",
   "execution_count": null,
   "id": "089388da",
   "metadata": {},
   "outputs": [],
   "source": []
  },
  {
   "cell_type": "code",
   "execution_count": 33,
   "id": "32b3cc25",
   "metadata": {},
   "outputs": [
    {
     "name": "stderr",
     "output_type": "stream",
     "text": [
      "c:\\users\\harsh\\anaconda3\\envs\\insurance\\lib\\site-packages\\seaborn\\distributions.py:2557: FutureWarning: `distplot` is a deprecated function and will be removed in a future version. Please adapt your code to use either `displot` (a figure-level function with similar flexibility) or `histplot` (an axes-level function for histograms).\n",
      "  warnings.warn(msg, FutureWarning)\n"
     ]
    },
    {
     "data": {
      "text/plain": [
       "<AxesSubplot:xlabel='Payment', ylabel='Density'>"
      ]
     },
     "execution_count": 33,
     "metadata": {},
     "output_type": "execute_result"
    },
    {
     "data": {
      "image/png": "[encoded data removed]",
      "text/plain": [
       "<Figure size 432x288 with 1 Axes>"
      ]
     },
     "metadata": {},
     "output_type": "display_data"
    }
   ],
   "source": [
    "#histogram payment\n",
    "sns.set_style('darkgrid')\n",
    "sns.distplot(motor_insurance['Payment'])"
   ]
  },
  {
   "cell_type": "markdown",
   "id": "cbc9dd5d",
   "metadata": {},
   "source": [
    "## Feature Engineering"
   ]
  },
  {
   "cell_type": "code",
   "execution_count": null,
   "id": "e8794a7e",
   "metadata": {},
   "outputs": [],
   "source": []
  },
  {
   "cell_type": "code",
   "execution_count": 9,
   "id": "168fd151",
   "metadata": {},
   "outputs": [],
   "source": [
    "#PaymentPerClaim\n",
    "motor_insurance['PaymentPerClaim'] =  motor_insurance['Payment'] / motor_insurance['Claims']\n",
    "\n",
    "#PaymentPerInsured\n",
    "motor_insurance['PaymentPerInsured'] =  motor_insurance['Payment'] / motor_insurance['Insured']\n",
    "\n",
    "#PaymentPerInsuredClaim\n",
    "motor_insurance['PaymentPerInsuredClaim'] =  motor_insurance['Payment'] / (motor_insurance['Claims']*motor_insurance['Insured'])\n",
    "\n",
    "#ClaimPerInsured\n",
    "motor_insurance['ClaimPerInsured'] =  motor_insurance['Claims'] / motor_insurance['Insured']\n",
    "\n",
    "#TakingLogPayment\n",
    "\n",
    "#motor_insurance['Payment'] = np.log(motor_insurance['Payment'])"
   ]
  },
  {
   "cell_type": "code",
   "execution_count": 34,
   "id": "ae80f658",
   "metadata": {},
   "outputs": [],
   "source": [
    "#numericals and categoricals\n",
    "\n",
    "numerics = motor_insurance.select_dtypes(include=['int64','float64'])\n",
    "categoricals = motor_insurance.select_dtypes(include='object')"
   ]
  },
  {
   "cell_type": "code",
   "execution_count": 35,
   "id": "139d85f5",
   "metadata": {},
   "outputs": [
    {
     "data": {
      "image/png": "[encoded data removed]",
      "text/plain": [
       "<Figure size 720x576 with 2 Axes>"
      ]
     },
     "metadata": {},
     "output_type": "display_data"
    }
   ],
   "source": [
    "#Heatmap\n",
    "\n",
    "\"\"\"Heatmap for analysis\"\"\"\n",
    "\n",
    "fig,ax = plt.subplots(figsize=(10,8))\n",
    "sns.heatmap(numerics.corr(),vmin=-1, vmax=1, center=0, cmap='coolwarm', ax=ax,annot=True)\n",
    "plt.show()"
   ]
  },
  {
   "cell_type": "code",
   "execution_count": 36,
   "id": "21fcc54a",
   "metadata": {},
   "outputs": [],
   "source": [
    "#claims and Insured are highly correlated\n",
    "\n",
    "\n",
    "motor_insurance.drop('Claims',axis=1,inplace=True)"
   ]
  },
  {
   "cell_type": "markdown",
   "id": "13d01365",
   "metadata": {},
   "source": [
    "### Using Tweedie Regression"
   ]
  },
  {
   "cell_type": "code",
   "execution_count": 37,
   "id": "d4266a60",
   "metadata": {},
   "outputs": [
    {
     "name": "stdout",
     "output_type": "stream",
     "text": [
      "Training data set length=1438\n",
      "Testing data set length=359\n"
     ]
    }
   ],
   "source": [
    "#train-test split\n",
    "\n",
    "mask = np.random.rand(len(motor_insurance)) < 0.8\n",
    "df_train = motor_insurance[mask]\n",
    "df_test = motor_insurance[~mask]\n",
    "print('Training data set length='+str(len(df_train)))\n",
    "print('Testing data set length='+str(len(df_test)))"
   ]
  },
  {
   "cell_type": "code",
   "execution_count": 46,
   "id": "bff9d090",
   "metadata": {},
   "outputs": [],
   "source": [
    "#expression for GLM regression \n",
    "\n",
    "expression = \"Payment ~ Kilometres  + Zone+ Bonus+  Make + Insured   \"\n",
    "\n",
    "\n",
    "# Converting data into dmatrices\n",
    "y_train, X_train = dmatrices(expression, df_train, return_type='dataframe')\n",
    "y_test, X_test = dmatrices(expression, df_test, return_type='dataframe')"
   ]
  },
  {
   "cell_type": "code",
   "execution_count": 55,
   "id": "2adffc20",
   "metadata": {},
   "outputs": [
    {
     "data": {
      "text/html": [
       "<div>\n",
       "<style scoped>\n",
       "    .dataframe tbody tr th:only-of-type {\n",
       "        vertical-align: middle;\n",
       "    }\n",
       "\n",
       "    .dataframe tbody tr th {\n",
       "        vertical-align: top;\n",
       "    }\n",
       "\n",
       "    .dataframe thead th {\n",
       "        text-align: right;\n",
       "    }\n",
       "</style>\n",
       "<table border=\"1\" class=\"dataframe\">\n",
       "  <thead>\n",
       "    <tr style=\"text-align: right;\">\n",
       "      <th></th>\n",
       "      <th>Intercept</th>\n",
       "      <th>Kilometres[T.2]</th>\n",
       "      <th>Kilometres[T.3]</th>\n",
       "      <th>Kilometres[T.4]</th>\n",
       "      <th>Kilometres[T.5]</th>\n",
       "      <th>Zone[T.2]</th>\n",
       "      <th>Zone[T.3]</th>\n",
       "      <th>Zone[T.4]</th>\n",
       "      <th>Zone[T.5]</th>\n",
       "      <th>Zone[T.6]</th>\n",
       "      <th>...</th>\n",
       "      <th>Bonus[T.7]</th>\n",
       "      <th>Make[T.2]</th>\n",
       "      <th>Make[T.3]</th>\n",
       "      <th>Make[T.4]</th>\n",
       "      <th>Make[T.5]</th>\n",
       "      <th>Make[T.6]</th>\n",
       "      <th>Make[T.7]</th>\n",
       "      <th>Make[T.8]</th>\n",
       "      <th>Make[T.9]</th>\n",
       "      <th>Insured</th>\n",
       "    </tr>\n",
       "  </thead>\n",
       "  <tbody>\n",
       "    <tr>\n",
       "      <th>1</th>\n",
       "      <td>1.0</td>\n",
       "      <td>0.0</td>\n",
       "      <td>0.0</td>\n",
       "      <td>0.0</td>\n",
       "      <td>0.0</td>\n",
       "      <td>0.0</td>\n",
       "      <td>0.0</td>\n",
       "      <td>0.0</td>\n",
       "      <td>0.0</td>\n",
       "      <td>0.0</td>\n",
       "      <td>...</td>\n",
       "      <td>0.0</td>\n",
       "      <td>1.0</td>\n",
       "      <td>0.0</td>\n",
       "      <td>0.0</td>\n",
       "      <td>0.0</td>\n",
       "      <td>0.0</td>\n",
       "      <td>0.0</td>\n",
       "      <td>0.0</td>\n",
       "      <td>0.0</td>\n",
       "      <td>69.17</td>\n",
       "    </tr>\n",
       "    <tr>\n",
       "      <th>2</th>\n",
       "      <td>1.0</td>\n",
       "      <td>0.0</td>\n",
       "      <td>0.0</td>\n",
       "      <td>0.0</td>\n",
       "      <td>0.0</td>\n",
       "      <td>0.0</td>\n",
       "      <td>0.0</td>\n",
       "      <td>0.0</td>\n",
       "      <td>0.0</td>\n",
       "      <td>0.0</td>\n",
       "      <td>...</td>\n",
       "      <td>0.0</td>\n",
       "      <td>0.0</td>\n",
       "      <td>1.0</td>\n",
       "      <td>0.0</td>\n",
       "      <td>0.0</td>\n",
       "      <td>0.0</td>\n",
       "      <td>0.0</td>\n",
       "      <td>0.0</td>\n",
       "      <td>0.0</td>\n",
       "      <td>72.88</td>\n",
       "    </tr>\n",
       "    <tr>\n",
       "      <th>3</th>\n",
       "      <td>1.0</td>\n",
       "      <td>0.0</td>\n",
       "      <td>0.0</td>\n",
       "      <td>0.0</td>\n",
       "      <td>0.0</td>\n",
       "      <td>0.0</td>\n",
       "      <td>0.0</td>\n",
       "      <td>0.0</td>\n",
       "      <td>0.0</td>\n",
       "      <td>0.0</td>\n",
       "      <td>...</td>\n",
       "      <td>0.0</td>\n",
       "      <td>0.0</td>\n",
       "      <td>0.0</td>\n",
       "      <td>1.0</td>\n",
       "      <td>0.0</td>\n",
       "      <td>0.0</td>\n",
       "      <td>0.0</td>\n",
       "      <td>0.0</td>\n",
       "      <td>0.0</td>\n",
       "      <td>1292.39</td>\n",
       "    </tr>\n",
       "  </tbody>\n",
       "</table>\n",
       "<p>3 rows × 26 columns</p>\n",
       "</div>"
      ],
      "text/plain": [
       "   Intercept  Kilometres[T.2]  Kilometres[T.3]  Kilometres[T.4]  \\\n",
       "1        1.0              0.0              0.0              0.0   \n",
       "2        1.0              0.0              0.0              0.0   \n",
       "3        1.0              0.0              0.0              0.0   \n",
       "\n",
       "   Kilometres[T.5]  Zone[T.2]  Zone[T.3]  Zone[T.4]  Zone[T.5]  Zone[T.6]  \\\n",
       "1              0.0        0.0        0.0        0.0        0.0        0.0   \n",
       "2              0.0        0.0        0.0        0.0        0.0        0.0   \n",
       "3              0.0        0.0        0.0        0.0        0.0        0.0   \n",
       "\n",
       "   ...  Bonus[T.7]  Make[T.2]  Make[T.3]  Make[T.4]  Make[T.5]  Make[T.6]  \\\n",
       "1  ...         0.0        1.0        0.0        0.0        0.0        0.0   \n",
       "2  ...         0.0        0.0        1.0        0.0        0.0        0.0   \n",
       "3  ...         0.0        0.0        0.0        1.0        0.0        0.0   \n",
       "\n",
       "   Make[T.7]  Make[T.8]  Make[T.9]  Insured  \n",
       "1        0.0        0.0        0.0    69.17  \n",
       "2        0.0        0.0        0.0    72.88  \n",
       "3        0.0        0.0        0.0  1292.39  \n",
       "\n",
       "[3 rows x 26 columns]"
      ]
     },
     "execution_count": 55,
     "metadata": {},
     "output_type": "execute_result"
    }
   ],
   "source": [
    "X_train.head(3)"
   ]
  },
  {
   "cell_type": "code",
   "execution_count": 47,
   "id": "09e3fae8",
   "metadata": {},
   "outputs": [],
   "source": [
    "# Training model\n",
    "tweedie_model = sm.GLM(y_train, X_train, family=sm.families.Tweedie(link=None,var_power=1.9,eql=True))\n",
    "\n",
    "tweedie_result = tweedie_model.fit()"
   ]
  },
  {
   "cell_type": "code",
   "execution_count": 99,
   "id": "26739222",
   "metadata": {},
   "outputs": [],
   "source": [
    "# tweedie_result_reg = tweedie_model.fit_regularized(method='elastic_net',alpha=0, L1_wt=0.3, start_params=None, refit=True)"
   ]
  },
  {
   "cell_type": "code",
   "execution_count": 48,
   "id": "47e393ed",
   "metadata": {},
   "outputs": [
    {
     "name": "stdout",
     "output_type": "stream",
     "text": [
      "                 Generalized Linear Model Regression Results                  \n",
      "==============================================================================\n",
      "Dep. Variable:                Payment   No. Observations:                 1438\n",
      "Model:                            GLM   Df Residuals:                     1412\n",
      "Model Family:                 Tweedie   Df Model:                           25\n",
      "Link Function:                    log   Scale:                          2.6199\n",
      "Method:                          IRLS   Log-Likelihood:                -17867.\n",
      "Date:                Sun, 16 May 2021   Deviance:                       3407.4\n",
      "Time:                        18:28:50   Pearson chi2:                 3.70e+03\n",
      "No. Iterations:                    23                                         \n",
      "Covariance Type:            nonrobust                                         \n",
      "===================================================================================\n",
      "                      coef    std err          z      P>|z|      [0.025      0.975]\n",
      "-----------------------------------------------------------------------------------\n",
      "Intercept          12.7269      0.115    110.892      0.000      12.502      12.952\n",
      "Kilometres[T.2]     0.2184      0.073      2.991      0.003       0.075       0.362\n",
      "Kilometres[T.3]    -0.2396      0.075     -3.201      0.001      -0.386      -0.093\n",
      "Kilometres[T.4]    -1.0493      0.081    -13.000      0.000      -1.208      -0.891\n",
      "Kilometres[T.5]    -1.0479      0.082    -12.806      0.000      -1.208      -0.888\n",
      "Zone[T.2]          -0.1561      0.084     -1.868      0.062      -0.320       0.008\n",
      "Zone[T.3]          -0.1884      0.084     -2.254      0.024      -0.352      -0.025\n",
      "Zone[T.4]           0.3588      0.083      4.313      0.000       0.196       0.522\n",
      "Zone[T.5]          -1.1680      0.092    -12.755      0.000      -1.347      -0.988\n",
      "Zone[T.6]          -0.6034      0.087     -6.911      0.000      -0.775      -0.432\n",
      "Zone[T.7]          -2.9101      0.123    -23.604      0.000      -3.152      -2.668\n",
      "Bonus[T.2]         -0.3595      0.093     -3.883      0.000      -0.541      -0.178\n",
      "Bonus[T.3]         -0.6246      0.093     -6.723      0.000      -0.807      -0.443\n",
      "Bonus[T.4]         -0.6326      0.095     -6.689      0.000      -0.818      -0.447\n",
      "Bonus[T.5]         -0.5644      0.091     -6.180      0.000      -0.743      -0.385\n",
      "Bonus[T.6]          0.0924      0.089      1.033      0.301      -0.083       0.268\n",
      "Bonus[T.7]          1.3168      0.089     14.869      0.000       1.143       1.490\n",
      "Make[T.2]          -1.3150      0.101    -13.059      0.000      -1.512      -1.118\n",
      "Make[T.3]          -1.5160      0.104    -14.562      0.000      -1.720      -1.312\n",
      "Make[T.4]          -1.5898      0.109    -14.625      0.000      -1.803      -1.377\n",
      "Make[T.5]          -1.2350      0.099    -12.528      0.000      -1.428      -1.042\n",
      "Make[T.6]          -0.8646      0.098     -8.783      0.000      -1.058      -0.672\n",
      "Make[T.7]          -1.6417      0.104    -15.798      0.000      -1.845      -1.438\n",
      "Make[T.8]          -1.7514      0.106    -16.510      0.000      -1.959      -1.543\n",
      "Make[T.9]           1.8403      0.092     19.978      0.000       1.660       2.021\n",
      "Insured          1.048e-05   3.86e-06      2.717      0.007    2.92e-06     1.8e-05\n",
      "===================================================================================\n"
     ]
    }
   ],
   "source": [
    "print(tweedie_result.summary())"
   ]
  },
  {
   "cell_type": "code",
   "execution_count": null,
   "id": "1f3f6e29",
   "metadata": {},
   "outputs": [],
   "source": [
    "# print(tweedie_result_reg.summary())\n",
    "# print('-'*50)\n",
    "# print(tweedie_result_reg.summary2())\n",
    "# print('-'*50)\n",
    "# y_pred_reg = tweedie_result_reg.predict(X_test)\n",
    "# print('-'*50)\n",
    "# rmse =np.sqrt(mean_squared_error(y_test,y_pred_reg))\n",
    "# rmse"
   ]
  },
  {
   "cell_type": "code",
   "execution_count": 49,
   "id": "593771a7",
   "metadata": {},
   "outputs": [
    {
     "name": "stdout",
     "output_type": "stream",
     "text": [
      "               Results: Generalized linear model\n",
      "================================================================\n",
      "Model:               GLM              AIC:            35785.6086\n",
      "Link Function:       log              BIC:            -6859.2489\n",
      "Dependent Variable:  Payment          Log-Likelihood: -17867.   \n",
      "Date:                2021-05-16 18:29 LL-Null:        -22791.   \n",
      "No. Observations:    1438             Deviance:       3407.4    \n",
      "Df Model:            25               Pearson chi2:   3.70e+03  \n",
      "Df Residuals:        1412             Scale:          2.6199    \n",
      "Method:              IRLS                                       \n",
      "----------------------------------------------------------------\n",
      "                 Coef.  Std.Err.    z     P>|z|   [0.025  0.975]\n",
      "----------------------------------------------------------------\n",
      "Intercept       12.7269   0.1148 110.8924 0.0000 12.5020 12.9519\n",
      "Kilometres[T.2]  0.2184   0.0730   2.9908 0.0028  0.0753  0.3615\n",
      "Kilometres[T.3] -0.2396   0.0748  -3.2010 0.0014 -0.3862 -0.0929\n",
      "Kilometres[T.4] -1.0493   0.0807 -12.9997 0.0000 -1.2075 -0.8911\n",
      "Kilometres[T.5] -1.0479   0.0818 -12.8060 0.0000 -1.2083 -0.8875\n",
      "Zone[T.2]       -0.1561   0.0836  -1.8683 0.0617 -0.3199  0.0077\n",
      "Zone[T.3]       -0.1884   0.0836  -2.2543 0.0242 -0.3521 -0.0246\n",
      "Zone[T.4]        0.3588   0.0832   4.3132 0.0000  0.1958  0.5219\n",
      "Zone[T.5]       -1.1680   0.0916 -12.7549 0.0000 -1.3474 -0.9885\n",
      "Zone[T.6]       -0.6034   0.0873  -6.9106 0.0000 -0.7746 -0.4323\n",
      "Zone[T.7]       -2.9101   0.1233 -23.6040 0.0000 -3.1518 -2.6685\n",
      "Bonus[T.2]      -0.3595   0.0926  -3.8829 0.0001 -0.5409 -0.1780\n",
      "Bonus[T.3]      -0.6246   0.0929  -6.7234 0.0000 -0.8067 -0.4425\n",
      "Bonus[T.4]      -0.6326   0.0946  -6.6892 0.0000 -0.8180 -0.4473\n",
      "Bonus[T.5]      -0.5644   0.0913  -6.1802 0.0000 -0.7434 -0.3854\n",
      "Bonus[T.6]       0.0924   0.0894   1.0334 0.3014 -0.0828  0.2676\n",
      "Bonus[T.7]       1.3168   0.0886  14.8694 0.0000  1.1433  1.4904\n",
      "Make[T.2]       -1.3150   0.1007 -13.0591 0.0000 -1.5124 -1.1177\n",
      "Make[T.3]       -1.5160   0.1041 -14.5625 0.0000 -1.7200 -1.3119\n",
      "Make[T.4]       -1.5898   0.1087 -14.6247 0.0000 -1.8028 -1.3767\n",
      "Make[T.5]       -1.2350   0.0986 -12.5285 0.0000 -1.4282 -1.0418\n",
      "Make[T.6]       -0.8646   0.0984  -8.7833 0.0000 -1.0575 -0.6717\n",
      "Make[T.7]       -1.6417   0.1039 -15.7975 0.0000 -1.8454 -1.4380\n",
      "Make[T.8]       -1.7514   0.1061 -16.5096 0.0000 -1.9593 -1.5434\n",
      "Make[T.9]        1.8403   0.0921  19.9783 0.0000  1.6598  2.0209\n",
      "Insured          0.0000   0.0000   2.7172 0.0066  0.0000  0.0000\n",
      "================================================================\n",
      "\n"
     ]
    }
   ],
   "source": [
    "print(tweedie_result.summary2())"
   ]
  },
  {
   "cell_type": "code",
   "execution_count": 165,
   "id": "6ab12c4a",
   "metadata": {},
   "outputs": [],
   "source": [
    "# #estimate the power for tweedie\n",
    "# mu = tweedie_result.mu\n",
    "# GLM.estimate_tweedie_power( mu, method='brentq', low=1.01, high=5.0)"
   ]
  },
  {
   "cell_type": "code",
   "execution_count": 50,
   "id": "5a6a1ce6",
   "metadata": {},
   "outputs": [],
   "source": [
    "#predicting the test set\n",
    "\n",
    "y_pred = tweedie_result.predict(X_test)"
   ]
  },
  {
   "cell_type": "code",
   "execution_count": 51,
   "id": "58556ce9",
   "metadata": {},
   "outputs": [
    {
     "data": {
      "text/plain": [
       "1723319.5654440103"
      ]
     },
     "execution_count": 51,
     "metadata": {},
     "output_type": "execute_result"
    }
   ],
   "source": [
    "#calculating the RMSE error\n",
    "\n",
    "rmse =np.sqrt(mean_squared_error(y_test,y_pred))\n",
    "rmse"
   ]
  },
  {
   "cell_type": "code",
   "execution_count": 52,
   "id": "27da86ed",
   "metadata": {},
   "outputs": [
    {
     "data": {
      "image/png": "[encoded data removed]",
      "text/plain": [
       "<Figure size 432x288 with 1 Axes>"
      ]
     },
     "metadata": {},
     "output_type": "display_data"
    }
   ],
   "source": [
    "#histogram for errors\n",
    "\n",
    "fig, ax = plt.subplots()\n",
    "\n",
    "resid = tweedie_result.resid_deviance.copy()\n",
    "resid_std = stats.zscore(resid)\n",
    "ax.hist(resid_std, bins=50)\n",
    "ax.set_title('Histogram of standardized deviance residuals');"
   ]
  },
  {
   "cell_type": "code",
   "execution_count": 53,
   "id": "ef7d0933",
   "metadata": {},
   "outputs": [
    {
     "name": "stderr",
     "output_type": "stream",
     "text": [
      "c:\\users\\harsh\\anaconda3\\envs\\insurance\\lib\\site-packages\\statsmodels\\graphics\\gofplots.py:993: UserWarning: marker is redundantly defined by the 'marker' keyword argument and the fmt string \"bo\" (-> marker='o'). The keyword argument will take precedence.\n",
      "  ax.plot(x, y, fmt, **plot_style)\n"
     ]
    },
    {
     "data": {
      "image/png": "[encoded data removed]",
      "text/plain": [
       "<Figure size 432x288 with 1 Axes>"
      ]
     },
     "execution_count": 53,
     "metadata": {},
     "output_type": "execute_result"
    },
    {
     "data": {
      "image/png": "[encoded data removed]",
      "text/plain": [
       "<Figure size 432x288 with 1 Axes>"
      ]
     },
     "metadata": {},
     "output_type": "display_data"
    }
   ],
   "source": [
    "#Q-Q plot for residuals\n",
    "\n",
    "graphics.gofplots.qqplot(resid, line='r')"
   ]
  },
  {
   "cell_type": "code",
   "execution_count": 54,
   "id": "75f944f1",
   "metadata": {},
   "outputs": [],
   "source": [
    "#pickle the model\n",
    "\n",
    "file = open(\"insurance_prediction.pkl\",\"wb\")\n",
    "\n",
    "pickle.dump(tweedie_result,file)"
   ]
  },
  {
   "cell_type": "code",
   "execution_count": null,
   "id": "5453e5bf",
   "metadata": {},
   "outputs": [],
   "source": []
  }
 ],
 "metadata": {
  "kernelspec": {
   "display_name": "Python 3",
   "language": "python",
   "name": "python3"
  },
  "language_info": {
   "codemirror_mode": {
    "name": "ipython",
    "version": 3
   },
   "file_extension": ".py",
   "mimetype": "text/x-python",
   "name": "python",
   "nbconvert_exporter": "python",
   "pygments_lexer": "ipython3",
   "version": "3.7.10"
  }
 },
 "nbformat": 4,
 "nbformat_minor": 5
}
